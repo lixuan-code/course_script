{
 "cells": [
  {
   "cell_type": "markdown",
   "metadata": {},
   "source": [
    "1.用 print 打印出下面内容: （试试有几种方法）\n",
    "\n",
    "​ 莫道谗言如浪深，\n",
    "​ 莫言迁客似沙沉。\n",
    "​ 千淘万漉虽辛苦，\n",
    "​ 吹尽狂沙始到金。\n"
   ]
  },
  {
   "cell_type": "code",
   "execution_count": null,
   "metadata": {},
   "outputs": [
    {
     "name": "stdout",
     "output_type": "stream",
     "text": [
      "莫道谗言如浪深，\n",
      "莫言迁客似沙沉。\n",
      "千淘万漉虽辛苦，\n",
      "吹尽狂沙始到金。\n",
      "\n",
      "莫道谗言如浪深，\n",
      "莫言迁客似沙沉。\n",
      "千淘万漉虽辛苦，\n",
      "吹尽狂沙始到金。\n",
      "\n",
      "莫道谗言如浪深，\n",
      "莫言迁客似沙沉。\n",
      "千淘万漉虽辛苦，\n",
      "吹尽狂沙始到金。\n"
     ]
    }
   ],
   "source": [
    "# 1\n",
    "print(\"莫道谗言如浪深，\")\n",
    "print(\"莫言迁客似沙沉。\")\n",
    "print(\"千淘万漉虽辛苦，\")\n",
    "print(\"吹尽狂沙始到金。\")\n",
    "\n",
    "# 2\n",
    "print(\n",
    "    \"\"\"\n",
    "莫道谗言如浪深，\n",
    "莫言迁客似沙沉。\n",
    "千淘万漉虽辛苦，\n",
    "吹尽狂沙始到金。\n",
    "\"\"\"\n",
    ")\n",
    "\n",
    "# 3\n",
    "print(\"莫道谗言如浪深，\\n莫言迁客似沙沉。\\n千淘万漉虽辛苦，\\n吹尽狂沙始到金。\")"
   ]
  },
  {
   "cell_type": "markdown",
   "metadata": {
    "vscode": {
     "languageId": "plaintext"
    }
   },
   "source": [
    "2.利用 if 语句写出猜大小游戏：\n",
    "设定一个理想比如：68，让用户输入数字，若大于 68，则显示\n",
    "猜测结果大了，若小于 68，则显示猜测的结果小了，只有等于 68，\n",
    "显示猜测结果正确。\n"
   ]
  },
  {
   "cell_type": "code",
   "execution_count": 5,
   "metadata": {},
   "outputs": [
    {
     "name": "stdout",
     "output_type": "stream",
     "text": [
      "猜测结果大了\n"
     ]
    }
   ],
   "source": [
    "real_num = 68\n",
    "inum = int(input(\"请输入一个整数：\"))\n",
    "if inum > real_num:\n",
    "    print(\"猜测结果大了\")\n",
    "elif inum < real_num:\n",
    "    print(\"猜测结果小了\")\n",
    "else:\n",
    "    print(\"猜测结果正确\")"
   ]
  },
  {
   "cell_type": "markdown",
   "metadata": {
    "vscode": {
     "languageId": "plaintext"
    }
   },
   "source": [
    "3.提示用户输入“管理员”，判断用户输入的对不对。如果对，提示”admin“；如果不对，提示输入有误。\n"
   ]
  },
  {
   "cell_type": "code",
   "execution_count": null,
   "metadata": {},
   "outputs": [
    {
     "name": "stdout",
     "output_type": "stream",
     "text": [
      "admin\n"
     ]
    }
   ],
   "source": [
    "istr = input(\"请输入管理员：\")\n",
    "print(\"admin\") if istr == \"管理员\" else print(\"输入有误\")"
   ]
  },
  {
   "cell_type": "markdown",
   "metadata": {
    "vscode": {
     "languageId": "plaintext"
    }
   },
   "source": [
    "4.用户输入一个整数，判断奇数还是偶数，并打印输出结果。\n"
   ]
  },
  {
   "cell_type": "code",
   "execution_count": 8,
   "metadata": {},
   "outputs": [
    {
     "name": "stdout",
     "output_type": "stream",
     "text": [
      "奇数\n"
     ]
    }
   ],
   "source": [
    "inum = int(input(\"请输入一个整数：\"))\n",
    "print(\"奇数\") if inum % 2 == 1 else print(\"偶数\")"
   ]
  },
  {
   "cell_type": "markdown",
   "metadata": {
    "vscode": {
     "languageId": "plaintext"
    }
   },
   "source": [
    "5.提示用户输入他的体重和身高，计算身体质量指数 (BMI)。\n",
    "\n",
    "> ​ 体质指数（BMI）=体重（kg）÷ 身高的平方（m）\n",
    "> ​ 例如：一个人的身高为 1.75 米,体重为 68 千克，他的 BMI=68/(1.75^2)=22.2（千克/米^2）当 BMI 指数为 18.5 ～ 23.9 时属正常。\n",
    "> ​ 成人的 BMI 数值：过轻：低于 18.5；正常：18.5-24.99；过重：25-28；肥胖：28-32\n",
    "\n",
    "​ 根据用户输入进行提示，如果小于 18.5, 提示\"过轻\"； 如果大于 18.5, 小于 24.99, 提示“正常”； 如果大于 25, 小于等于 28. 提示”过重“；如果大于 28, 小于 32. 提示”肥胖“。\n"
   ]
  },
  {
   "cell_type": "code",
   "execution_count": null,
   "metadata": {},
   "outputs": [
    {
     "name": "stdout",
     "output_type": "stream",
     "text": [
      "过重\n"
     ]
    }
   ],
   "source": [
    "weight = float(input(\"请输入您的体重(kg)：\"))\n",
    "tall = float(input(\"请输入您的身高(m)：\"))\n",
    "\n",
    "BIM = weight / tall**2\n",
    "if BIM < 18.5:\n",
    "    print(\"过轻\")\n",
    "elif 18.5 < BIM < 24.99:\n",
    "    print(\"正常\")\n",
    "elif 25 < BIM <= 28:\n",
    "    print(\"过重\")\n",
    "elif 28 < BIM < 32:\n",
    "    print(\"肥胖\")"
   ]
  },
  {
   "cell_type": "markdown",
   "metadata": {
    "vscode": {
     "languageId": "plaintext"
    }
   },
   "source": [
    "6.用户输入 2 个数字 x 和 y，根据用户输入的坐标值，判断坐标点所在象限。\n",
    "\n",
    "> 若 x>0 , y>0 第一象限\n",
    "> 若 x<0 , y>0 第二象限\n",
    "> 若 x<0 , y<0 第三象限\n",
    "> 若 x>0 , y<0 第四象限\n",
    "> 若 x=0 , y=0 原点\n",
    "> 若 x=0 或 y=0 在 x 轴或 y 轴上\n"
   ]
  },
  {
   "cell_type": "code",
   "execution_count": null,
   "metadata": {},
   "outputs": [
    {
     "name": "stdout",
     "output_type": "stream",
     "text": [
      "第一象限\n"
     ]
    }
   ],
   "source": [
    "x = float(input(\"x：\"))\n",
    "y = float(input(\"y：\"))\n",
    "\n",
    "if x * y > 0:\n",
    "    print(\"第一象限\" if x > 0 else \"第三象限\")\n",
    "elif x * y < 0:\n",
    "    print(\"第二象限\" if x < 0 else \"第四象限\")\n",
    "else:\n",
    "    if x == 0 and y == 0:\n",
    "        print(\"原点\")\n",
    "    elif x == 0:\n",
    "        print(\"x轴\")\n",
    "    else:\n",
    "        print(\"y轴\")\n",
    "\n",
    "# x = float(input(\"x：\"))\n",
    "# y = float(input(\"y：\"))\n",
    "\n",
    "# if x == 0 and y == 0:\n",
    "#     print(\"原点\")\n",
    "# elif x == 0:\n",
    "#     print(\"x轴\")\n",
    "# elif y == 0:\n",
    "#     print(\"y轴\")\n",
    "# elif x > 0:\n",
    "#     print(\"第一象限\") if y > 0 else print(\"第四象限\")\n",
    "# else:\n",
    "#     print(\"第三象限\") if y < 0 else print(\"第二象限\")"
   ]
  },
  {
   "cell_type": "markdown",
   "metadata": {
    "vscode": {
     "languageId": "plaintext"
    }
   },
   "source": [
    "7.用户输入一个月份，然后判断月份是多少月，根据不同的月份，打印该月份所属的季节。\n",
    "\n",
    "> 提示: 3,4,5 春季 6,7,8 夏季 9,10,11 秋季 12, 1, 2 冬季\n"
   ]
  },
  {
   "cell_type": "code",
   "execution_count": null,
   "metadata": {},
   "outputs": [
    {
     "name": "stdout",
     "output_type": "stream",
     "text": [
      "冬季\n"
     ]
    }
   ],
   "source": [
    "month = int(input(\"month:\"))\n",
    "\n",
    "if month in [3, 4, 5]:\n",
    "    print(\"春季\")\n",
    "elif month in [6, 7, 8]:\n",
    "    print(\"夏季\")\n",
    "elif month in [9, 10, 11]:\n",
    "    print(\"秋季\")\n",
    "else:\n",
    "    print(\"冬季\")"
   ]
  },
  {
   "cell_type": "markdown",
   "metadata": {
    "vscode": {
     "languageId": "plaintext"
    }
   },
   "source": [
    "8.输入年、月，输出本月有多少天。合理选择分支语句完成设计任务。\n",
    "\n",
    "> 输入样例 1：2020 2\n",
    "> 输出结果 1：本月 29 天\n",
    "> 输入样例 2：2021 9\n",
    "> 输出结果 2：本月 30 天\n"
   ]
  },
  {
   "cell_type": "code",
   "execution_count": null,
   "metadata": {},
   "outputs": [
    {
     "name": "stdout",
     "output_type": "stream",
     "text": [
      "本月29天\n"
     ]
    }
   ],
   "source": [
    "year = int(input(\"year:\"))\n",
    "month = int(input(\"month:\"))\n",
    "\n",
    "is_leapyear = year % 4 == 0 and year % 100 != 0 or year % 400 == 0\n",
    "\n",
    "if month == 2:\n",
    "    print(\"本月29天\" if is_leapyear else \"本月28天\")\n",
    "elif month in [1, 3, 5, 7, 8, 10, 12]:\n",
    "    print(\"本月31天\")\n",
    "else:\n",
    "    print(\"本月30天\")"
   ]
  },
  {
   "cell_type": "markdown",
   "metadata": {
    "vscode": {
     "languageId": "plaintext"
    }
   },
   "source": [
    "9.用户输入年份 year, 判断是否为闰年?\n",
    "闰年的判断标准：year 能被 4 整除但是不能被 100 整除，或者 year 能被 400 整除, 那么就是闰年;\n"
   ]
  },
  {
   "cell_type": "code",
   "execution_count": null,
   "metadata": {},
   "outputs": [
    {
     "name": "stdout",
     "output_type": "stream",
     "text": [
      "平年\n"
     ]
    }
   ],
   "source": [
    "year = int(input(\"year:\"))\n",
    "is_leapyear = year % 4 == 0 and year % 100 != 0 or year % 400 == 0\n",
    "print(\"闰年\" if is_leapyear else \"平年\")"
   ]
  }
 ],
 "metadata": {
  "kernelspec": {
   "display_name": "mygeo",
   "language": "python",
   "name": "python3"
  },
  "language_info": {
   "codemirror_mode": {
    "name": "ipython",
    "version": 3
   },
   "file_extension": ".py",
   "mimetype": "text/x-python",
   "name": "python",
   "nbconvert_exporter": "python",
   "pygments_lexer": "ipython3",
   "version": "3.9.19"
  }
 },
 "nbformat": 4,
 "nbformat_minor": 2
}
