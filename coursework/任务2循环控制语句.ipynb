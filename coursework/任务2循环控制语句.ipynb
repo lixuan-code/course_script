{
 "cells": [
  {
   "metadata": {},
   "cell_type": "markdown",
   "source": [
    "1.求1-100的所有数的和  \t\t\t（for循环基本概念）\n",
    "\n",
    "【基本概念练习】\n",
    "使用while/for循环输出 1 2 3 4 5 6 8 9 10\n",
    "求1-100的所有数的和"
   ],
   "id": "8555d29b49ff5962"
  },
  {
   "cell_type": "code",
   "id": "initial_id",
   "metadata": {
    "collapsed": true,
    "ExecuteTime": {
     "end_time": "2024-11-20T12:44:54.305932Z",
     "start_time": "2024-11-20T12:44:54.276790Z"
    }
   },
   "source": [
    "# while\n",
    "num = 1\n",
    "sum_value = 0\n",
    "while num <= 100:\n",
    "    sum_value += num\n",
    "    num += 1\n",
    "print(sum_value)\n",
    "\n",
    "# for\n",
    "sum_value = 0\n",
    "for num in range(1,101):\n",
    "    sum_value += num\n",
    "print(sum_value)"
   ],
   "outputs": [
    {
     "name": "stdout",
     "output_type": "stream",
     "text": [
      "5050\n",
      "5050\n"
     ]
    }
   ],
   "execution_count": 1
  },
  {
   "metadata": {},
   "cell_type": "markdown",
   "source": [
    "2.输出1-100内所有的奇数/偶数\t（循环+条件语句）\n",
    "\n",
    "【循环和条件语句】\n",
    "输出1-100内所有的奇数/偶数\n",
    "用户输入一个整形数，求该数的阶乘\n",
    "求1-2+3-4+5 ……99的所有数的和"
   ],
   "id": "6455354c6e0875c5"
  },
  {
   "metadata": {
    "ExecuteTime": {
     "end_time": "2024-11-20T12:44:56.403064Z",
     "start_time": "2024-11-20T12:44:56.394062Z"
    }
   },
   "cell_type": "code",
   "source": [
    "odd = [] # 奇数\n",
    "even = [] # 偶数\n",
    "\n",
    "for num in range(1,101):\n",
    "    if num % 2 == 0:\n",
    "        even.append(num)\n",
    "    else:\n",
    "        odd.append(num)\n",
    "print(odd)\n",
    "print(even)"
   ],
   "id": "83a4a06e8ac2508",
   "outputs": [
    {
     "name": "stdout",
     "output_type": "stream",
     "text": [
      "[1, 3, 5, 7, 9, 11, 13, 15, 17, 19, 21, 23, 25, 27, 29, 31, 33, 35, 37, 39, 41, 43, 45, 47, 49, 51, 53, 55, 57, 59, 61, 63, 65, 67, 69, 71, 73, 75, 77, 79, 81, 83, 85, 87, 89, 91, 93, 95, 97, 99]\n",
      "[2, 4, 6, 8, 10, 12, 14, 16, 18, 20, 22, 24, 26, 28, 30, 32, 34, 36, 38, 40, 42, 44, 46, 48, 50, 52, 54, 56, 58, 60, 62, 64, 66, 68, 70, 72, 74, 76, 78, 80, 82, 84, 86, 88, 90, 92, 94, 96, 98, 100]\n"
     ]
    }
   ],
   "execution_count": 2
  },
  {
   "metadata": {},
   "cell_type": "markdown",
   "source": [
    "3.for循环打印金字塔\t\t\t\t\t（双重循环）\n",
    "\n",
    "*\n",
    "\\*\\*\\*\n",
    "\\*\\*\\*\\*\\*\n",
    "\\*\\*\\*\\*\\*\\*\\*\n",
    "\\*\\*\\*\\*\\*\\*\\*\\*\\*"
   ],
   "id": "bb21d35928a66965"
  },
  {
   "metadata": {
    "ExecuteTime": {
     "end_time": "2024-11-20T12:44:58.884989Z",
     "start_time": "2024-11-20T12:44:58.867467Z"
    }
   },
   "cell_type": "code",
   "source": [
    "for num in range(1,10,2):\n",
    "    print(f'{\"*\"*num: ^9}')"
   ],
   "id": "80f28bda01cc1a1d",
   "outputs": [
    {
     "name": "stdout",
     "output_type": "stream",
     "text": [
      "    *    \n",
      "   ***   \n",
      "  *****  \n",
      " ******* \n",
      "*********\n"
     ]
    }
   ],
   "execution_count": 3
  },
  {
   "metadata": {},
   "cell_type": "markdown",
   "source": [
    "4.for循环打印99乘法表\t\t\t\t（双重循环）\n",
    "\n",
    "for循环打印99乘法表，形式如下：\n",
    "1 * 1 = 1\n",
    "2 * 1 = 2  2 * 2 = 4\n",
    "3 * 1 = 3  3 * 2 = 6  3 * 3 = 9\n",
    "4 * 1 = 4  4 * 2 = 8  4 * 3 = 12  4 * 4 = 16\n",
    "5 * 1 = 5  5 * 2 = 10  5 * 3 = 15  5 * 4 = 20  5 * 5 = 25\n",
    "6 * 1 = 6  6 * 2 = 12  6 * 3 = 18  6 * 4 = 24  6 * 5 = 30  6 * 6 = 36\n",
    "7 * 1 = 7  7 * 2 = 14  7 * 3 = 21  7 * 4 = 28  7 * 5 = 35  7 * 6 = 42  7 * 7 = 49\n",
    "8 * 1 = 8  8 * 2 = 16  8 * 3 = 24  8 * 4 = 32  8 * 5 = 40  8 * 6 = 48  8 * 7 = 56  8 * 8 = 64\n",
    "9 * 1 = 9  9 * 2 = 18  9 * 3 = 27  9 * 4 = 36  9 * 5 = 45  9 * 6 = 54  9 * 7 = 63  9 * 8 = 72  9 * 9 = 81\n"
   ],
   "id": "87a3399bdb836bf2"
  },
  {
   "metadata": {
    "ExecuteTime": {
     "end_time": "2024-11-20T12:45:00.951266Z",
     "start_time": "2024-11-20T12:45:00.937766Z"
    }
   },
   "cell_type": "code",
   "source": [
    "for i in range(1,10):\n",
    "    for j in range(1,10):\n",
    "        if i >= j:\n",
    "            print(f'{i}*{j}={i*j}',end=\"\\t\")\n",
    "    print()\n",
    "\n",
    "print('---------------------------------------------------')\n",
    "for i in range(1,10):\n",
    "    for j in range(1,i+1):\n",
    "        print(f'{i}*{j}={i*j}',end=\"\\t\")\n",
    "    print()"
   ],
   "id": "5c168734bc30a0f6",
   "outputs": [
    {
     "name": "stdout",
     "output_type": "stream",
     "text": [
      "1*1=1\t\n",
      "2*1=2\t2*2=4\t\n",
      "3*1=3\t3*2=6\t3*3=9\t\n",
      "4*1=4\t4*2=8\t4*3=12\t4*4=16\t\n",
      "5*1=5\t5*2=10\t5*3=15\t5*4=20\t5*5=25\t\n",
      "6*1=6\t6*2=12\t6*3=18\t6*4=24\t6*5=30\t6*6=36\t\n",
      "7*1=7\t7*2=14\t7*3=21\t7*4=28\t7*5=35\t7*6=42\t7*7=49\t\n",
      "8*1=8\t8*2=16\t8*3=24\t8*4=32\t8*5=40\t8*6=48\t8*7=56\t8*8=64\t\n",
      "9*1=9\t9*2=18\t9*3=27\t9*4=36\t9*5=45\t9*6=54\t9*7=63\t9*8=72\t9*9=81\t\n",
      "---------------------------------------------------\n",
      "1*1=1\t\n",
      "2*1=2\t2*2=4\t\n",
      "3*1=3\t3*2=6\t3*3=9\t\n",
      "4*1=4\t4*2=8\t4*3=12\t4*4=16\t\n",
      "5*1=5\t5*2=10\t5*3=15\t5*4=20\t5*5=25\t\n",
      "6*1=6\t6*2=12\t6*3=18\t6*4=24\t6*5=30\t6*6=36\t\n",
      "7*1=7\t7*2=14\t7*3=21\t7*4=28\t7*5=35\t7*6=42\t7*7=49\t\n",
      "8*1=8\t8*2=16\t8*3=24\t8*4=32\t8*5=40\t8*6=48\t8*7=56\t8*8=64\t\n",
      "9*1=9\t9*2=18\t9*3=27\t9*4=36\t9*5=45\t9*6=54\t9*7=63\t9*8=72\t9*9=81\t\n"
     ]
    }
   ],
   "execution_count": 4
  },
  {
   "metadata": {},
   "cell_type": "markdown",
   "source": [
    "5.完成猜数字游戏：\t\t\t\t\t （break练习）\n",
    "\n",
    "- 系统随机生成一个1～100的数字；\n",
    "\n",
    "- 用户共有5次机会猜；\n",
    "\n",
    "- 如果用户猜测数字大于系统给出的数字，打印\"大了\"\n",
    "\n",
    "- 如果用户猜测数字小于系统给出的数字，打印\"小了\"\n",
    "\n",
    "- 如果用户猜测的数字等于系统给出的数字，打印\"恭喜中奖\"，并退出循环\n",
    "\n",
    "  >提示：\n",
    "  >\n",
    "  >随机生成一个整数的代码为：\n",
    "  >\n",
    "  >import random\t\t#引入随机库\n",
    "  >\n",
    "  >num = random.randint(0,2)  \t#随机生成0、1、2中的一个数字，赋值给变量num\n",
    "\n",
    "5.请结合自身理解和背景，出一道循环嵌套知识题目，并自行解答。"
   ],
   "id": "130644e4a54198c3"
  },
  {
   "metadata": {
    "ExecuteTime": {
     "end_time": "2024-11-20T12:45:08.640347Z",
     "start_time": "2024-11-20T12:45:04.156439Z"
    }
   },
   "cell_type": "code",
   "source": [
    "import random\n",
    "\n",
    "random.seed(12)\n",
    "num = random.randint(1, 100)\n",
    "count = 1\n",
    "\n",
    "while count <= 5:\n",
    "\n",
    "    guess = int(input('guess: '))\n",
    "\n",
    "    if guess == num:\n",
    "        print(\"恭喜中奖\")\n",
    "        break\n",
    "    elif guess > num:\n",
    "        print(\"大了\")\n",
    "    else:\n",
    "        print(\"小了\")\n",
    "    count += 1\n",
    "print(\"game over\")\n"
   ],
   "id": "a9bf82e2863022ed",
   "outputs": [
    {
     "name": "stdout",
     "output_type": "stream",
     "text": [
      "恭喜中奖\n",
      "game over\n"
     ]
    }
   ],
   "execution_count": 5
  },
  {
   "metadata": {},
   "cell_type": "markdown",
   "source": [
    "（1）猴子吃桃问题：猴子第一天摘下若干个桃子，当即吃了一半，还不瘾，又多吃了一个，第二天早上又将剩下的桃子吃掉一半，又多吃了一个。以后每天早上都吃了前一天剩下的一半零一个。到第10天早上想再吃时，见只剩下一个桃子了。求第一天共摘了多少。\n",
    "\n",
    "（2）一球从100米高度自由落下，每次落地后反跳回原高度的一半；再落下，求它在第10次落地时，共经过多少米？第10次反弹多高？\n",
    "\n",
    "（3）有1、2、3、4个数字，能组成多少个互不相同且无重复数字的三位数？都是多少？\n",
    "\n",
    "\n",
    "（4）一个数如果恰好等于它的因子之和，这个数就称为“完数”。例如6=1＋2＋3.编程找出1000以内的所有完数。\n",
    "\n",
    "（5）输入两个数值：\n",
    "\t\t求两个数的最大公约数和最小公倍数\n",
    "\t\t最小公倍数=(num1 * num2) / 最大公约数\n",
    "\n",
    "\n",
    "（6）将一个正整数分解质因数。例如：输入90,打印出90=2*3*3*5。\n",
    "\n",
    "\n",
    "（7）打印出所有的“水仙花数”，所谓“水仙花数”是指一个三位数，其各位数字立方和等于该数本身。例如：153是一个“水仙花数”，因为153=1的三次方＋5的三次方＋3的三次方。\n",
    "\n"
   ],
   "id": "510296dd3e464967"
  },
  {
   "metadata": {
    "ExecuteTime": {
     "end_time": "2024-11-20T14:48:10.031820Z",
     "start_time": "2024-11-20T14:48:09.574500Z"
    }
   },
   "cell_type": "code",
   "source": "",
   "id": "15f755be95a484ae",
   "outputs": [
    {
     "ename": "ModuleNotFoundError",
     "evalue": "No module named 'teardfd'",
     "output_type": "error",
     "traceback": [
      "\u001B[1;31m---------------------------------------------------------------------------\u001B[0m",
      "\u001B[1;31mModuleNotFoundError\u001B[0m                       Traceback (most recent call last)",
      "Cell \u001B[1;32mIn[1], line 2\u001B[0m\n\u001B[0;32m      1\u001B[0m \u001B[38;5;66;03m# (1)\u001B[39;00m\n\u001B[1;32m----> 2\u001B[0m \u001B[38;5;28;01mimport\u001B[39;00m \u001B[38;5;21;01mteardfd\u001B[39;00m\n",
      "\u001B[1;31mModuleNotFoundError\u001B[0m: No module named 'teardfd'"
     ]
    }
   ],
   "execution_count": 1
  }
 ],
 "metadata": {
  "kernelspec": {
   "display_name": "Python 3",
   "language": "python",
   "name": "python3"
  },
  "language_info": {
   "codemirror_mode": {
    "name": "ipython",
    "version": 2
   },
   "file_extension": ".py",
   "mimetype": "text/x-python",
   "name": "python",
   "nbconvert_exporter": "python",
   "pygments_lexer": "ipython2",
   "version": "2.7.6"
  }
 },
 "nbformat": 4,
 "nbformat_minor": 5
}
