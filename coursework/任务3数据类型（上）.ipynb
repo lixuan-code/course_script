{
 "cells": [
  {
   "metadata": {},
   "cell_type": "markdown",
   "source": [
    "1.实现一个整数加法计算器（多个数相加）：\n",
    "\n",
    "如：content = input(\"请输入内容:\") 用户输入：5+9+6 +12+ 13，然后进行分割再进行计算。\n"
   ],
   "id": "7672834b1db9653b"
  },
  {
   "metadata": {
    "ExecuteTime": {
     "end_time": "2024-11-21T11:18:00.405896Z",
     "start_time": "2024-11-21T11:17:53.316206Z"
    }
   },
   "cell_type": "code",
   "source": [
    "content = input(\"input content:\")\n",
    "lst = content.split('+')\n",
    "sum_value = sum(map(int, lst))\n",
    "print(sum_value)"
   ],
   "id": "ee9b9e7fb337f811",
   "outputs": [
    {
     "name": "stdout",
     "output_type": "stream",
     "text": [
      "45\n"
     ]
    }
   ],
   "execution_count": 2
  },
  {
   "metadata": {},
   "cell_type": "markdown",
   "source": [
    "2.计算用户输入的内容中有几个整数（以个位数为单位），并打印输出。\n",
    "\n",
    "> 如：content = input(\"请输入内容：\")\n",
    ">\n",
    "> 如：fhdal234slfh98769fjdla\n",
    ">\n",
    "> 输出：8个数字：23498769\n"
   ],
   "id": "7dd87ddd6c14796a"
  },
  {
   "metadata": {
    "ExecuteTime": {
     "end_time": "2024-11-21T11:21:47.782624Z",
     "start_time": "2024-11-21T11:21:22.980510Z"
    }
   },
   "cell_type": "code",
   "source": [
    "content = input(\"input content:\")\n",
    "num_lst = [num for num in content if num in '0123456789']\n",
    "print(f\"{len(num_lst)} numbers: {''.join(num_lst)}\")"
   ],
   "id": "30d2e247a007c001",
   "outputs": [
    {
     "name": "stdout",
     "output_type": "stream",
     "text": [
      "8 numbers: 23498769\n"
     ]
    }
   ],
   "execution_count": 3
  },
  {
   "metadata": {},
   "cell_type": "markdown",
   "source": [
    "3.查找列表wordlist 中的元素，移除每个元素的空格，并找出以\"A\"或者\"a\"开头，并以\"c\"结尾的所有元素，并添加到一个新列表中,最后循环打印这个新列表。\n",
    "\n",
    "wordlist =  [\"IT sishu\", \"alexC\", \"Ab C \", \"egon \", \" ticToc \", \" Angle \", \"  aqc\"]\n"
   ],
   "id": "825aac9dfb3f6f24"
  },
  {
   "metadata": {
    "ExecuteTime": {
     "end_time": "2024-11-21T11:30:54.334473Z",
     "start_time": "2024-11-21T11:30:54.314938Z"
    }
   },
   "cell_type": "code",
   "source": [
    "wordlist =  [\"IT sishu\", \"alexC\", \"Ab C \", \"egon \", \" ticToc \", \" Angle \", \"  aqc\"]\n",
    "new_word_list = []\n",
    "for word in wordlist:\n",
    "    new_word = ''.join(word.split())\n",
    "    if new_word[0].upper()=='A' and new_word[-1].upper()=='C':\n",
    "        new_word_list.append(word)\n",
    "print(new_word_list)"
   ],
   "id": "f5158d6bb2938323",
   "outputs": [
    {
     "name": "stdout",
     "output_type": "stream",
     "text": [
      "['alexC', 'Ab C ', '  aqc']\n"
     ]
    }
   ],
   "execution_count": 12
  },
  {
   "metadata": {},
   "cell_type": "markdown",
   "source": [
    "4.循环打印列表中的每个元素，遇到列表则再循环打印出它里面的元素。\n",
    "\n",
    "wordlist = [1, 3, 4, \"sishu\", [\"aa\", \"bb\", \"cc\"], 5, \"it\"]\n",
    "\n",
    "> 输出：1,3,4,sishu,\n",
    ">\n",
    "> ​            aa,bb,cc,\n",
    ">\n",
    "> ​\t\t\t5,it,\n",
    "\n"
   ],
   "id": "e406ae02ef2de28d"
  },
  {
   "metadata": {
    "ExecuteTime": {
     "end_time": "2024-11-21T11:38:45.739474Z",
     "start_time": "2024-11-21T11:38:45.730981Z"
    }
   },
   "cell_type": "code",
   "source": [
    "wordlist = [1, 3, 4, \"sishu\", [\"aa\", \"bb\", \"cc\"], 5, \"it\"]\n",
    "for word in wordlist:\n",
    "    if isinstance(word, list):\n",
    "        print()\n",
    "        print(*word)\n",
    "    else:\n",
    "        print(word,end='\\t')\n"
   ],
   "id": "dea15f296952b8ec",
   "outputs": [
    {
     "name": "stdout",
     "output_type": "stream",
     "text": [
      "1\t3\t4\tsishu\t\n",
      "aa bb cc\n",
      "5\tit\t"
     ]
    }
   ],
   "execution_count": 21
  },
  {
   "metadata": {},
   "cell_type": "markdown",
   "source": "5.假设字符串中含有的字母及个数相同就算相等（例如：aba和aab相等），随便输入二组字符串，请编程比较他们看是否相等\n",
   "id": "ab8ee2afe2fce5e6"
  },
  {
   "metadata": {
    "ExecuteTime": {
     "end_time": "2024-11-21T11:47:58.711334Z",
     "start_time": "2024-11-21T11:47:51.701038Z"
    }
   },
   "cell_type": "code",
   "source": [
    "str1 = input(\"input str1:\")\n",
    "str2 = input(\"input str2:\")\n",
    "\n",
    "if sorted(str1) == sorted(str2):\n",
    "    print(\"equal string\")\n",
    "else:\n",
    "    print(\"different string\")"
   ],
   "id": "e732f0a12261297f",
   "outputs": [
    {
     "name": "stdout",
     "output_type": "stream",
     "text": [
      "equal string\n"
     ]
    }
   ],
   "execution_count": 26
  },
  {
   "metadata": {},
   "cell_type": "markdown",
   "source": [
    "6.从键盘输入字符串，回车后按单词反转\n",
    "\n",
    "> 例如输入：Where there is a way\n",
    ">\n",
    "> 输出：Way a is there where\n"
   ],
   "id": "68c73e856f7e5321"
  },
  {
   "metadata": {
    "ExecuteTime": {
     "end_time": "2024-11-21T11:49:11.409579Z",
     "start_time": "2024-11-21T11:48:54.660803Z"
    }
   },
   "cell_type": "code",
   "source": "print(input()[::-1])",
   "id": "5285c39e8f30f7d7",
   "outputs": [
    {
     "name": "stdout",
     "output_type": "stream",
     "text": [
      "?morf uoy era erehw\n"
     ]
    }
   ],
   "execution_count": 27
  },
  {
   "metadata": {},
   "cell_type": "markdown",
   "source": [
    "7.判断一句话是否是回文. 回文: 正着念和反着念是一样的.\n",
    "\n",
    "> 例如, 上海自来水来自海上\n"
   ],
   "id": "b98ce51b7420bc38"
  },
  {
   "metadata": {
    "ExecuteTime": {
     "end_time": "2024-11-21T11:50:04.116305Z",
     "start_time": "2024-11-21T11:49:48.019292Z"
    }
   },
   "cell_type": "code",
   "source": [
    "content = input(\"input content:\")\n",
    "if content==content[::-1]:\n",
    "    print(\"correct\")\n",
    "else:\n",
    "    print(\"incorrect\")"
   ],
   "id": "355317738abf29ac",
   "outputs": [
    {
     "name": "stdout",
     "output_type": "stream",
     "text": [
      "correct\n"
     ]
    }
   ],
   "execution_count": 28
  },
  {
   "metadata": {},
   "cell_type": "markdown",
   "source": [
    "【扩展】\n",
    "\n",
    "设计一个算法，判断列表中是否具有相同元素。（方法不止一种，看你能写出几种）\n",
    "\n",
    "​    [1,4,7,5,1,9,8]\n"
   ],
   "id": "2a2b40e2126479da"
  },
  {
   "metadata": {
    "ExecuteTime": {
     "end_time": "2024-11-21T11:56:43.561351Z",
     "start_time": "2024-11-21T11:56:43.548183Z"
    }
   },
   "cell_type": "code",
   "source": [
    "lst = [1,4,7,5,1,9,8]\n",
    "count_list = [lst.count(num) for num in sorted(lst)]\n",
    "if max(count_list)>1:\n",
    "    print(\"Have more than one number\")\n",
    "else:\n",
    "    print(\"Have not more than one number\")\n",
    "\n",
    "lst = [1, 4, 7, 5, 1, 9, 8]\n",
    "lst.sort()\n",
    "duplicate_found = False\n",
    "\n",
    "for i in range(len(lst) - 1):\n",
    "    if lst[i] == lst[i + 1]:\n",
    "        duplicate_found = True\n",
    "        break\n",
    "\n",
    "if duplicate_found:\n",
    "    print(\"Have more than one number\")\n",
    "else:\n",
    "    print(\"Have not more than one number\")\n"
   ],
   "id": "32c3d284454af782",
   "outputs": [
    {
     "name": "stdout",
     "output_type": "stream",
     "text": [
      "Have more than one number\n",
      "Have more than one number\n"
     ]
    }
   ],
   "execution_count": 30
  }
 ],
 "metadata": {
  "kernelspec": {
   "display_name": "Python 3",
   "language": "python",
   "name": "python3"
  },
  "language_info": {
   "codemirror_mode": {
    "name": "ipython",
    "version": 2
   },
   "file_extension": ".py",
   "mimetype": "text/x-python",
   "name": "python",
   "nbconvert_exporter": "python",
   "pygments_lexer": "ipython2",
   "version": "2.7.6"
  }
 },
 "nbformat": 4,
 "nbformat_minor": 5
}
